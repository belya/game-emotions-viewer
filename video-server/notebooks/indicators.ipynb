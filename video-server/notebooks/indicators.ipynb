{
 "cells": [
  {
   "cell_type": "code",
   "execution_count": 1,
   "metadata": {},
   "outputs": [
    {
     "name": "stdout",
     "output_type": "stream",
     "text": [
      "env: MNE_USE_NUMBA=false\n"
     ]
    }
   ],
   "source": [
    "%env MNE_USE_NUMBA false"
   ]
  },
  {
   "cell_type": "code",
   "execution_count": 2,
   "metadata": {},
   "outputs": [],
   "source": [
    "import mne"
   ]
  },
  {
   "cell_type": "code",
   "execution_count": 3,
   "metadata": {},
   "outputs": [],
   "source": [
    "import pandas as pd"
   ]
  },
  {
   "cell_type": "code",
   "execution_count": 4,
   "metadata": {},
   "outputs": [],
   "source": [
    "import numpy as np"
   ]
  },
  {
   "cell_type": "code",
   "execution_count": 5,
   "metadata": {},
   "outputs": [],
   "source": [
    "import matplotlib.pyplot as plt"
   ]
  },
  {
   "cell_type": "code",
   "execution_count": 6,
   "metadata": {},
   "outputs": [],
   "source": [
    "import json"
   ]
  },
  {
   "cell_type": "code",
   "execution_count": 7,
   "metadata": {},
   "outputs": [],
   "source": [
    "devices = json.load(open('../devices.json'))"
   ]
  },
  {
   "cell_type": "code",
   "execution_count": 8,
   "metadata": {},
   "outputs": [],
   "source": [
    "client_id = 'mock-session'"
   ]
  },
  {
   "cell_type": "code",
   "execution_count": 9,
   "metadata": {},
   "outputs": [],
   "source": [
    "sampling_freq = devices[\"OpenBCI8\"]['sampling_rate']\n",
    "ch_names = devices[\"OpenBCI8\"]['channels']"
   ]
  },
  {
   "cell_type": "code",
   "execution_count": 10,
   "metadata": {},
   "outputs": [],
   "source": [
    "signal_df = pd.read_csv(f\"../{client_id}.csv\")"
   ]
  },
  {
   "cell_type": "code",
   "execution_count": 11,
   "metadata": {},
   "outputs": [
    {
     "data": {
      "text/plain": [
       "<AxesSubplot:>"
      ]
     },
     "execution_count": 11,
     "metadata": {},
     "output_type": "execute_result"
    },
    {
     "data": {
      "image/png": "[encoded data removed]",
      "text/plain": [
       "<Figure size 432x288 with 1 Axes>"
      ]
     },
     "metadata": {
      "needs_background": "light"
     },
     "output_type": "display_data"
    }
   ],
   "source": [
    "signal_df['Fp1'].iloc[100:1000].plot()"
   ]
  },
  {
   "cell_type": "code",
   "execution_count": 12,
   "metadata": {},
   "outputs": [],
   "source": [
    "# signal_df = pd.read_csv(\"\"\"/home/noomkcalb/Documents/projects/game-emotions/client-sdk/brainflow_data.csv\"\"\", header=None, sep='\\t')\n",
    "\n",
    "# signal_df = signal_df[list(range(1, 9)) + [30]].copy()\n",
    "\n",
    "# signal_df.columns = ['Fp1', 'Fp2', 'C3', 'C4', 'P3', 'P4', 'O1', 'O2', 'time']\n",
    "\n",
    "# for c in signal_df.columns:\n",
    "#     signal_df[c] = signal_df[c].str.replace(\",\", \".\").astype(float)"
   ]
  },
  {
   "cell_type": "code",
   "execution_count": 13,
   "metadata": {},
   "outputs": [],
   "source": [
    "signal_df = signal_df.set_index('time')"
   ]
  },
  {
   "cell_type": "code",
   "execution_count": 14,
   "metadata": {},
   "outputs": [],
   "source": [
    "ch_types = ['eeg'] * len(ch_names)"
   ]
  },
  {
   "cell_type": "markdown",
   "metadata": {},
   "source": [
    "# Restore raw signal"
   ]
  },
  {
   "cell_type": "code",
   "execution_count": 15,
   "metadata": {},
   "outputs": [],
   "source": [
    "def get_raw_signal(signal_df, ch_names, ch_types, sampling_freq):\n",
    "    signal_df.columns = ch_names\n",
    "\n",
    "    # signal_df[\"time\"] = pd.to_datetime(signal_df[\"time\"]).dt.strftime(\"%Y-%m-%d %H:%M:%S\")\n",
    "#     signal_df[\"time\"] = pd.to_datetime(signal_df[\"timestamp\"], unit='ms')\n",
    "    \n",
    "    signal_info = mne.create_info(\n",
    "        ch_names, \n",
    "        ch_types=ch_types, \n",
    "        sfreq=sampling_freq\n",
    "    )\n",
    "    signal_info.set_montage('standard_1020')\n",
    "#     signal_info[\"start_time\"] = signal_df[\"time\"].min()\n",
    "    \n",
    "    data = signal_df[ch_names].values.T\n",
    "    raw = mne.io.RawArray(data, signal_info)\n",
    "\n",
    "#     # Filter line noise\n",
    "    raw.notch_filter(50, notch_widths=3)\n",
    "\n",
    "#     # Filter nessesary frequencies\n",
    "    raw.filter(1, 50)\n",
    "    \n",
    "    return raw"
   ]
  },
  {
   "cell_type": "code",
   "execution_count": 16,
   "metadata": {},
   "outputs": [
    {
     "name": "stdout",
     "output_type": "stream",
     "text": [
      "Creating RawArray with float64 data, n_channels=8, n_times=18981\n",
      "    Range : 0 ... 18980 =      0.000 ...    75.920 secs\n",
      "Ready.\n",
      "Setting up band-stop filter from 48 - 52 Hz\n",
      "\n",
      "FIR filter parameters\n",
      "---------------------\n",
      "Designing a one-pass, zero-phase, non-causal bandstop filter:\n",
      "- Windowed time-domain design (firwin) method\n",
      "- Hamming window with 0.0194 passband ripple and 53 dB stopband attenuation\n",
      "- Lower passband edge: 48.00\n",
      "- Lower transition bandwidth: 0.50 Hz (-6 dB cutoff frequency: 47.75 Hz)\n",
      "- Upper passband edge: 52.00 Hz\n",
      "- Upper transition bandwidth: 0.50 Hz (-6 dB cutoff frequency: 52.25 Hz)\n",
      "- Filter length: 1651 samples (6.604 sec)\n",
      "\n",
      "Filtering raw data in 1 contiguous segment\n",
      "Setting up band-pass filter from 1 - 50 Hz\n",
      "\n",
      "FIR filter parameters\n",
      "---------------------\n",
      "Designing a one-pass, zero-phase, non-causal bandpass filter:\n",
      "- Windowed time-domain design (firwin) method\n",
      "- Hamming window with 0.0194 passband ripple and 53 dB stopband attenuation\n",
      "- Lower passband edge: 1.00\n",
      "- Lower transition bandwidth: 1.00 Hz (-6 dB cutoff frequency: 0.50 Hz)\n",
      "- Upper passband edge: 50.00 Hz\n",
      "- Upper transition bandwidth: 12.50 Hz (-6 dB cutoff frequency: 56.25 Hz)\n",
      "- Filter length: 825 samples (3.300 sec)\n",
      "\n"
     ]
    }
   ],
   "source": [
    "raw = get_raw_signal(\n",
    "    signal_df,\n",
    "    ch_names=ch_names,\n",
    "    ch_types=ch_types,\n",
    "    sampling_freq=sampling_freq\n",
    ")"
   ]
  },
  {
   "cell_type": "code",
   "execution_count": 17,
   "metadata": {},
   "outputs": [],
   "source": [
    "%matplotlib inline"
   ]
  },
  {
   "cell_type": "code",
   "execution_count": 18,
   "metadata": {},
   "outputs": [
    {
     "data": {
      "text/plain": [
       "[<matplotlib.lines.Line2D at 0x7f0dc1f15c90>]"
      ]
     },
     "execution_count": 18,
     "metadata": {},
     "output_type": "execute_result"
    },
    {
     "data": {
      "image/png": "[encoded data removed]",
      "text/plain": [
       "<Figure size 432x288 with 1 Axes>"
      ]
     },
     "metadata": {
      "needs_background": "light"
     },
     "output_type": "display_data"
    }
   ],
   "source": [
    "plt.plot(raw.get_data()[0, 1000:-1000])"
   ]
  },
  {
   "cell_type": "markdown",
   "metadata": {},
   "source": [
    "# Get localized bands"
   ]
  },
  {
   "cell_type": "code",
   "execution_count": 19,
   "metadata": {},
   "outputs": [],
   "source": [
    "def get_sampling_freq_deg_two(n):\n",
    "    n = int(n)\n",
    "    d = 0\n",
    "    while n > 0:\n",
    "        n = n >> 1\n",
    "        d += 1\n",
    "    return 2 ** d"
   ]
  },
  {
   "cell_type": "code",
   "execution_count": 20,
   "metadata": {},
   "outputs": [
    {
     "data": {
      "text/plain": [
       "256"
      ]
     },
     "execution_count": 20,
     "metadata": {},
     "output_type": "execute_result"
    }
   ],
   "source": [
    "get_sampling_freq_deg_two(250.0)"
   ]
  },
  {
   "cell_type": "code",
   "execution_count": 21,
   "metadata": {},
   "outputs": [],
   "source": [
    "def get_bands(raw, locations_dict, bands_dict, window_size=16):\n",
    "    sampling_freq = get_sampling_freq_deg_two(raw.info['sfreq'])\n",
    "    \n",
    "    location_band_channels = {}\n",
    "    for location_name, channels in locations_dict.items():\n",
    "        band_channels = {}\n",
    "        \n",
    "        for name, frequencies in bands_dict.items():\n",
    "            channel_raw = raw.copy().pick(channels).get_data(channels)\n",
    "            channel_fft = np.abs(\n",
    "                mne.time_frequency.stft(channel_raw, sampling_freq, window_size)\n",
    "            )\n",
    "            # Average all frequencies, then among channels\n",
    "            band_channel = channel_fft[:, frequencies, :].mean(axis=1).mean(axis=0)\n",
    "            band_channel = band_channel[window_size:-window_size]\n",
    "            band_channels[name] = band_channel\n",
    "        location_band_channels[location_name] = band_channels\n",
    "    \n",
    "    return location_band_channels"
   ]
  },
  {
   "cell_type": "code",
   "execution_count": 36,
   "metadata": {},
   "outputs": [
    {
     "name": "stdout",
     "output_type": "stream",
     "text": [
      "Number of frequencies: 129\n",
      "Number of time steps: 1187\n",
      "Number of frequencies: 129\n",
      "Number of time steps: 1187\n",
      "Number of frequencies: 129\n",
      "Number of time steps: 1187\n",
      "Number of frequencies: 129\n",
      "Number of time steps: 1187\n",
      "Number of frequencies: 129\n",
      "Number of time steps: 1187\n",
      "Number of frequencies: 129\n",
      "Number of time steps: 1187\n"
     ]
    }
   ],
   "source": [
    "location_band_channels = get_bands(\n",
    "    raw, \n",
    "    {\n",
    "        'frontal_left': ['Fp1'],\n",
    "        'frontal_temporal': ['Fp1']\n",
    "    }, \n",
    "    {\n",
    "        'alpha': np.arange(8, 15), \n",
    "        'beta': np.arange(15, 25),\n",
    "        'theta': np.arange(4, 8)\n",
    "    }\n",
    ")"
   ]
  },
  {
   "cell_type": "markdown",
   "metadata": {},
   "source": [
    "# Get indicators"
   ]
  },
  {
   "cell_type": "markdown",
   "metadata": {},
   "source": [
    "Нужно исправить время"
   ]
  },
  {
   "cell_type": "code",
   "execution_count": 37,
   "metadata": {},
   "outputs": [],
   "source": [
    "def get_flow():\n",
    "    global location_band_channels\n",
    "    frontal_left_alpha = location_band_channels['frontal_left']['alpha']\n",
    "    frontal_left_beta = location_band_channels['frontal_left']['beta']\n",
    "    \n",
    "    return frontal_left_beta / frontal_left_alpha - 1"
   ]
  },
  {
   "cell_type": "code",
   "execution_count": 39,
   "metadata": {},
   "outputs": [],
   "source": [
    "def get_anxiety():\n",
    "    global location_band_channels\n",
    "    frontal_left_alpha = location_band_channels['frontal_temporal']['theta']\n",
    "    frontal_left_beta = location_band_channels['frontal_temporal']['beta']\n",
    "    \n",
    "    return frontal_left_beta / frontal_left_alpha - 1"
   ]
  },
  {
   "cell_type": "code",
   "execution_count": 57,
   "metadata": {},
   "outputs": [],
   "source": [
    "indicators = {\n",
    "    'flow': get_flow,\n",
    "    'anxiety': get_anxiety\n",
    "}"
   ]
  },
  {
   "cell_type": "code",
   "execution_count": 58,
   "metadata": {},
   "outputs": [],
   "source": [
    "indicators_df = pd.DataFrame()"
   ]
  },
  {
   "cell_type": "code",
   "execution_count": 59,
   "metadata": {},
   "outputs": [],
   "source": [
    "for indicator, func in indicators.items():\n",
    "    indicators_df[indicator] = func()"
   ]
  },
  {
   "cell_type": "code",
   "execution_count": 60,
   "metadata": {},
   "outputs": [],
   "source": [
    "n_samples = indicators_df.shape[0]\n",
    "signal_time = raw.times.max()"
   ]
  },
  {
   "cell_type": "code",
   "execution_count": 61,
   "metadata": {},
   "outputs": [],
   "source": [
    "time = np.linspace(0, signal_time, n_samples)"
   ]
  },
  {
   "cell_type": "code",
   "execution_count": 62,
   "metadata": {},
   "outputs": [
    {
     "data": {
      "text/plain": [
       "75.92"
      ]
     },
     "execution_count": 62,
     "metadata": {},
     "output_type": "execute_result"
    }
   ],
   "source": [
    "time.max()"
   ]
  },
  {
   "cell_type": "code",
   "execution_count": 63,
   "metadata": {},
   "outputs": [],
   "source": [
    "indicators_df.index = time\n",
    "indicators_df.index.name = 'time'"
   ]
  },
  {
   "cell_type": "code",
   "execution_count": 64,
   "metadata": {},
   "outputs": [],
   "source": [
    "# indicators_df['anxiety'] = indicators_df['flow']\n",
    "indicators_df['boredom'] = 1 / indicators_df['flow']"
   ]
  },
  {
   "cell_type": "code",
   "execution_count": 65,
   "metadata": {},
   "outputs": [],
   "source": [
    "for c in indicators_df.columns:\n",
    "    min_value = indicators_df[c].min()\n",
    "    max_value = indicators_df[c].max() \n",
    "    indicators_df[c] = (indicators_df[c] - min_value) / (max_value - min_value)"
   ]
  },
  {
   "cell_type": "code",
   "execution_count": 66,
   "metadata": {},
   "outputs": [],
   "source": [
    "indicators_df.to_csv(f'../{client_id}-indicators.csv')"
   ]
  },
  {
   "cell_type": "code",
   "execution_count": 67,
   "metadata": {},
   "outputs": [
    {
     "data": {
      "text/plain": [
       "<AxesSubplot:xlabel='time'>"
      ]
     },
     "execution_count": 67,
     "metadata": {},
     "output_type": "execute_result"
    },
    {
     "data": {
      "image/png": "[encoded data removed]",
      "text/plain": [
       "<Figure size 432x288 with 1 Axes>"
      ]
     },
     "metadata": {
      "needs_background": "light"
     },
     "output_type": "display_data"
    }
   ],
   "source": [
    "indicators_df['flow'].plot()\n",
    "indicators_df['anxiety'].plot()"
   ]
  }
 ],
 "metadata": {
  "kernelspec": {
   "display_name": "Python 3",
   "language": "python",
   "name": "python3"
  },
  "language_info": {
   "codemirror_mode": {
    "name": "ipython",
    "version": 3
   },
   "file_extension": ".py",
   "mimetype": "text/x-python",
   "name": "python",
   "nbconvert_exporter": "python",
   "pygments_lexer": "ipython3",
   "version": "3.7.6"
  }
 },
 "nbformat": 4,
 "nbformat_minor": 4
}
